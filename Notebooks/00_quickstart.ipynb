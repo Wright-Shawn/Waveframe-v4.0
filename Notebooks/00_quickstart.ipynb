{
 "cells": [
  {
   "cell_type": "markdown",
   "metadata": {},
   "source": [
    "# Waveframe v4.0 \u2014 Quickstart Notebook\n",
    "\n",
    "This notebook is a **viewer** for CSV results and a simple **plotter** for common observables.\n",
    "\n",
    "**How to use:**\n",
    "1. Ensure you installed dependencies from `requirements.txt`.\n",
    "2. Run all cells top-to-bottom.\n",
    "3. If multiple CSVs are found under `Analysis/`, you can choose one by editing `CSV_INDEX` below.\n"
   ]
  },
  {
   "cell_type": "code",
   "execution_count": null,
   "metadata": {},
   "outputs": [],
   "source": [
    "import sys, platform, glob, os\n",
    "import pandas as pd\n",
    "import numpy as np\n",
    "import matplotlib.pyplot as plt\n",
    "\n",
    "print('Python:', sys.version)\n",
    "print('Platform:', platform.platform())\n",
    "print('pandas:', pd.__version__)\n",
    "print('numpy:', np.__version__)\n",
    "print('matplotlib:', plt.matplotlib.__version__)\n"
   ]
  },
  {
   "cell_type": "code",
   "execution_count": null,
   "metadata": {},
   "outputs": [],
   "source": [
    "# Locate candidate CSVs under Analysis/\n",
    "SEARCH_ROOT = os.path.abspath(os.path.join('Analysis'))\n",
    "csvs = sorted(glob.glob(os.path.join(SEARCH_ROOT, '**', '*.csv'), recursive=True))\n",
    "print('Search root:', SEARCH_ROOT)\n",
    "print('Found CSVs:')\n",
    "for i, p in enumerate(csvs):\n",
    "    print(f'  [{i}]', p)\n",
    "\n",
    "if not csvs:\n",
    "    raise FileNotFoundError('No CSV files found under Analysis/. Generate results first or place a CSV there.')\n",
    "\n",
    "# Choose which CSV to load\n",
    "CSV_INDEX = 0  # change this if you want a different file\n",
    "csv_path = csvs[CSV_INDEX]\n",
    "print('\\nUsing CSV:', csv_path)\n",
    "df = pd.read_csv(csv_path)\n",
    "print('\\nColumns:', list(df.columns))\n",
    "display(df.head())\n"
   ]
  },
  {
   "cell_type": "code",
   "execution_count": null,
   "metadata": {},
   "outputs": [],
   "source": [
    "def pick(first_match_from, columns):\n",
    "    for name in first_match_from:\n",
    "        if name in columns:\n",
    "            return name\n",
    "    return None\n",
    "\n",
    "Z = pick(['z','redshift','Z'], df.columns)\n",
    "E = pick(['E','E_z','E(z)'], df.columns)\n",
    "DA = pick(['D_A','D_A(z)','DA','DA_z','angular_diameter_distance'], df.columns)\n",
    "H = pick(['H','H_z','H(z)','Hz'], df.columns)\n",
    "G = pick(['growth','f_sigma8','f\u03c38','f_s8'], df.columns)\n",
    "\n",
    "print('Detected columns ->', {'z':Z, 'E':E, 'D_A':DA, 'H':H, 'growth':G})\n"
   ]
  },
  {
   "cell_type": "code",
   "execution_count": null,
   "metadata": {},
   "outputs": [],
   "source": [
    "# Plot E(z)\n",
    "if Z and E:\n",
    "    plt.figure()\n",
    "    plt.plot(df[Z], df[E])\n",
    "    plt.xlabel(Z); plt.ylabel(E); plt.title('E(z)')\n",
    "    plt.grid(True)\n",
    "else:\n",
    "    print('Skipping E(z): missing columns')\n",
    "\n",
    "# Plot D_A(z)\n",
    "if Z and DA:\n",
    "    plt.figure()\n",
    "    plt.plot(df[Z], df[DA])\n",
    "    plt.xlabel(Z); plt.ylabel(DA); plt.title('D_A(z)')\n",
    "    plt.grid(True)\n",
    "else:\n",
    "    print('Skipping D_A(z): missing columns')\n",
    "\n",
    "# Plot H(z)\n",
    "if Z and H:\n",
    "    plt.figure()\n",
    "    plt.plot(df[Z], df[H])\n",
    "    plt.xlabel(Z); plt.ylabel(H); plt.title('H(z)')\n",
    "    plt.grid(True)\n",
    "else:\n",
    "    print('Skipping H(z): missing columns')\n",
    "\n",
    "# Plot growth proxy\n",
    "if Z and G:\n",
    "    plt.figure()\n",
    "    plt.plot(df[Z], df[G])\n",
    "    plt.xlabel(Z); plt.ylabel(G); plt.title('Growth (proxy)')\n",
    "    plt.grid(True)\n",
    "else:\n",
    "    print('Skipping growth: missing columns')\n"
   ]
  }
 ],
 "metadata": {
  "kernelspec": {
   "display_name": "Python 3",
   "language": "python",
   "name": "python3"
  },
  "language_info": {
   "name": "python",
   "version": "3.11.8"
  }
 },
 "nbformat": 4,
 "nbformat_minor": 5
}