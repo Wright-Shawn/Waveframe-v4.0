{
 "cells": [
  {
   "cell_type": "markdown",
   "id": "e70ed0a5",
   "metadata": {},
   "source": [
    "# Compare Waveframe V4.0 to ΛCDM\n",
    "\n",
    "This notebook wires together the Equations modules to:\n",
    "\n",
    "1. Define an α(z) profile (constant / logistic / power-law in a).\n",
    "2. Solve for H(z) using `hubble_entropy_growth.py`.\n",
    "3. Build a reference ΛCDM model from `limit_case_LCDM.py`.\n",
    "4. Plot H(z) and residuals H/H_LCDM − 1.\n",
    "\n",
    "**Note:** The notebook assumes the `Equations` folder is two levels up from this notebook.\n"
   ]
  },
  {
   "cell_type": "code",
   "execution_count": null,
   "id": "56b1bbbd",
   "metadata": {},
   "outputs": [],
   "source": [
    "# Setup: imports and sys.path so we can import from Equations\n",
    "import sys, os\n",
    "from pathlib import Path\n",
    "import numpy as np\n",
    "import matplotlib.pyplot as plt\n",
    "\n",
    "# Add the Equations directory to the path (adjust if your layout differs)\n",
    "root = Path.cwd().resolve()\n",
    "eq_dir_candidates = [\n",
    "    root.parents[1] / 'Equations',   # expected when this notebook lives in analysis/notebooks\n",
    "    root.parents[0] / 'Equations',   # fallback\n",
    "]\n",
    "for cand in eq_dir_candidates:\n",
    "    if cand.exists():\n",
    "        sys.path.insert(0, str(cand))\n",
    "        break\n",
    "\n",
    "from hubble_entropy_growth import (\n",
    "    make_alpha, solve_H_of_z, infer_alpha_match_from_H\n",
    ")\n",
    "from limit_case_LCDM import H_LCDM_flat\n",
    "\n",
    "print('Imports ok. Using Equations at:', cand)"
   ]
  },
  {
   "cell_type": "markdown",
   "id": "dc181bf2",
   "metadata": {},
   "source": [
    "> **Patch:** Added figure-output utilities and auto-save. Plots will save into `Figures/auto/`. Use `savefig('hz_comparison.png')` after any plot to save with a custom name."
   ]
  },
  {
   "cell_type": "code",
   "execution_count": null,
   "id": "18d90a9e",
   "metadata": {},
   "outputs": [],
   "source": [
    "# ---- Figure output setup (auto-creates Figures directories) ----\n",
    "try:\n",
    "    plt  # ensure matplotlib is available as plt\n",
    "except NameError:\n",
    "    import matplotlib.pyplot as plt\n",
    "\n",
    "from pathlib import Path\n",
    "from datetime import datetime\n",
    "\n",
    "REPO_ROOT = Path(\".\").resolve()\n",
    "FIG_DIR = REPO_ROOT / \"Figures\"\n",
    "AUTO_DIR = FIG_DIR / \"auto\"\n",
    "AUTO_DIR.mkdir(parents=True, exist_ok=True)\n",
    "\n",
    "def savefig(name: str, fig=None, subdir: str = \"auto\", dpi=300):\n",
    "    \"\"\"Save current (or provided) figure into Figures/<subdir>/ with sane defaults.\"\"\"\n",
    "    target_dir = FIG_DIR / subdir if subdir else FIG_DIR\n",
    "    target_dir.mkdir(parents=True, exist_ok=True)\n",
    "    fig = fig or plt.gcf()\n",
    "    out = target_dir / name\n",
    "    fig.savefig(out, dpi=dpi, bbox_inches=\"tight\")\n",
    "    print(f\"[saved] {out}\")\n",
    "    return out\n"
   ]
  },
  {
   "cell_type": "markdown",
   "id": "f8c23a51",
   "metadata": {},
   "source": [
    "> **Automated patch:** Figure-output utilities inserted. Plots now save to `Figures/auto/` via `savefig('name.png')`. No other code changed."
   ]
  },
  {
   "cell_type": "code",
   "execution_count": null,
   "id": "3fabd8a5",
   "metadata": {},
   "outputs": [],
   "source": [
    "# ---- Figure output setup (auto-creates Figures directories) ----\n",
    "try:\n",
    "    plt  # ensure matplotlib is available as plt\n",
    "except NameError:\n",
    "    import matplotlib.pyplot as plt\n",
    "\n",
    "from pathlib import Path\n",
    "from datetime import datetime\n",
    "\n",
    "REPO_ROOT = Path(\".\").resolve()\n",
    "FIG_DIR = REPO_ROOT / \"Figures\"\n",
    "AUTO_DIR = FIG_DIR / \"auto\"\n",
    "AUTO_DIR.mkdir(parents=True, exist_ok=True)\n",
    "\n",
    "def savefig(name: str, fig=None, subdir: str = \"auto\", dpi=300):\n",
    "    \"\"\"Save current (or provided) figure into Figures/<subdir>/ with sane defaults.\"\"\"\n",
    "    target_dir = FIG_DIR / subdir if subdir else FIG_DIR\n",
    "    target_dir.mkdir(parents=True, exist_ok=True)\n",
    "    fig = fig or plt.gcf()\n",
    "    out = target_dir / name\n",
    "    fig.savefig(out, dpi=dpi, bbox_inches=\"tight\")\n",
    "    print(f\"[saved] {out}\")\n",
    "    return out\n"
   ]
  },
  {
   "cell_type": "markdown",
   "id": "17b6106d",
   "metadata": {},
   "source": [
    "**Tip:** After any plot block, add a line like `savefig('hz_comparison.png')` to persist the figure in `Figures/auto/`."
   ]
  },
  {
   "cell_type": "code",
   "execution_count": null,
   "id": "4f5474a1",
   "metadata": {},
   "outputs": [],
   "source": [
    "# Define redshift grid and baseline cosmology\n",
    "z = np.linspace(0.0, 2.0, 400)\n",
    "H0 = 70.0  # km/s/Mpc (units arbitrary as long as consistent)\n",
    "Omega_m0 = 0.3\n",
    "Omega_r0 = 0.0\n",
    "Omega_L0 = 1.0 - Omega_m0 - Omega_r0\n",
    "\n",
    "# Reference ΛCDM H(z)\n",
    "H_LCDM = H_LCDM_flat(H0, Omega_m0, Omega_r0, Omega_L0)\n",
    "H_ref = H_LCDM(z)\n",
    "print('Reference H(z) computed. H(0)=', H_ref[0])"
   ]
  },
  {
   "cell_type": "code",
   "execution_count": null,
   "id": "ed6c9eac",
   "metadata": {},
   "outputs": [],
   "source": [
    "# Choose an α(z) profile for Waveframe\n",
    "# Options: constant, powerlaw_a, logistic\n",
    "alpha_spec = { 'type': 'logistic', 'zc': 0.7, 'width': 0.25, 'low': 0.0, 'high': 0.02 }\n",
    "alpha = make_alpha(alpha_spec)\n",
    "\n",
    "# Solve Waveframe H(z)\n",
    "H_wf = solve_H_of_z(z, H0, alpha)\n",
    "print('Waveframe H(0)=', H_wf[0])"
   ]
  },
  {
   "cell_type": "code",
   "execution_count": null,
   "id": "cff1560c",
   "metadata": {},
   "outputs": [],
   "source": [
    "# Plot H(z) comparison\n",
    "plt.figure()\n",
    "plt.plot(z, H_ref, label='ΛCDM H(z)')\n",
    "plt.plot(z, H_wf, label='Waveframe H(z)')\n",
    "plt.xlabel('z')\n",
    "plt.ylabel('H(z)')\n",
    "plt.legend()\n",
    "plt.title('H(z): Waveframe vs ΛCDM')\n",
    "plt.show()\n",
    "\n",
    "# Plot residuals: H/H_LCDM − 1\n",
    "resid = H_wf / H_ref - 1.0\n",
    "plt.figure()\n",
    "plt.plot(z, resid, label='Residual')\n",
    "plt.axhline(0, linestyle='--')\n",
    "plt.xlabel('z')\n",
    "plt.ylabel('H/H_LCDM − 1')\n",
    "plt.title('Residuals')\n",
    "plt.show()"
   ]
  },
  {
   "cell_type": "code",
   "execution_count": null,
   "id": "e4f35cd8",
   "metadata": {},
   "outputs": [],
   "source": [
    "# Optional: exact matching demo — infer α_match from H_LCDM and re-solve to verify\n",
    "alpha_match = infer_alpha_match_from_H(H_LCDM, z)\n",
    "H_match = solve_H_of_z(z, H0, (lambda zz: np.interp(zz, z, alpha_match)))\n",
    "\n",
    "plt.figure()\n",
    "plt.plot(z, H_ref, label='ΛCDM H(z)')\n",
    "plt.plot(z, H_match, label='Reconstructed via α_match', linestyle=':')\n",
    "plt.xlabel('z')\n",
    "plt.ylabel('H(z)')\n",
    "plt.legend()\n",
    "plt.title('Verification: α_match reproduces ΛCDM')\n",
    "plt.show()"
   ]
  },
  {
   "cell_type": "markdown",
   "id": "c46f6320",
   "metadata": {},
   "source": [
    "### Save Outputs"
   ]
  },
  {
   "cell_type": "code",
   "execution_count": null,
   "id": "00c1e725",
   "metadata": {},
   "outputs": [],
   "source": [
    "# ---- Auto-save any open figures (runs safely even if none exist) ----\n",
    "try:\n",
    "    nums = plt.get_fignums()\n",
    "    if nums:\n",
    "        for i, num in enumerate(nums, start=1):\n",
    "            fig = plt.figure(num)\n",
    "            savefig(f\"compare_to_lcdm_{i:02d}.png\", fig=fig)\n",
    "    else:\n",
    "        print(\"No open figures to save.\")\n",
    "except Exception as e:\n",
    "    print(\"Autosave skipped:\", e)\n"
   ]
  }
 ],
 "metadata": {
  "kernelspec": {
   "display_name": "Python 3",
   "language": "python",
   "name": "python3"
  },
  "language_info": {
   "name": "python",
   "version": "3.x"
  }
 },
 "nbformat": 4,
 "nbformat_minor": 5
}
