{
 "cells": [
  {
   "cell_type": "markdown",
   "id": "98c5f66a",
   "metadata": {},
   "source": [
    "# Structure Growth and fσ₈(z)\n",
    "\n",
    "This notebook computes the linear growth factor **D(z)** and **fσ₈(z)** for the Waveframe V4.0 model,\n",
    "and compares them to redshift-space distortion (RSD) observational data.\n",
    "\n",
    "**Goals:**\n",
    "1. Integrate the growth equation for matter perturbations given a model-specific H(z).\n",
    "2. Compute fσ₈(z) for direct comparison with current large-scale structure surveys.\n",
    "3. Evaluate fit quality against ΛCDM.\n"
   ]
  },
  {
   "cell_type": "code",
   "execution_count": null,
   "id": "7a24f4e1",
   "metadata": {},
   "outputs": [],
   "source": [
    "import numpy as np\n",
    "import matplotlib.pyplot as plt\n",
    "from scipy.integrate import solve_ivp\n",
    "\n",
    "# Example placeholder H(z) function for Waveframe V4.0 (to be replaced with actual model)\n",
    "def H_waveframe(z):\n",
    "    H0 = 70.0  # km/s/Mpc\n",
    "    return H0 * np.sqrt(0.3 * (1+z)**3 + 0.7)\n",
    "\n",
    "# Growth equation d^2D/d(ln a)^2 + [ (dlnH/dlna) + 2 ] dD/d(ln a) - (3/2)*Omega_m(a) * D = 0\n",
    "def growth_equation(ln_a, y):\n",
    "    a = np.exp(ln_a)\n",
    "    z = 1/a - 1\n",
    "    H = H_waveframe(z)\n",
    "    dlnH_dlna = -0.5 * (3*0.3*(1+z)**3) / (0.3*(1+z)**3 + 0.7)\n",
    "    Omega_m_a = 0.3 * (1+z)**3 / ((H/H_waveframe(0))**2)\n",
    "    D, dD_dlna = y\n",
    "    d2D_dlna2 = - (dlnH_dlna + 2) * dD_dlna + 1.5 * Omega_m_a * D\n",
    "    return [dD_dlna, d2D_dlna2]\n",
    "\n",
    "# Solve from high redshift to present\n",
    "a_init, a_final = 1e-3, 1.0\n",
    "ln_a_span = (np.log(a_init), np.log(a_final))\n",
    "y0 = [a_init, 1.0]  # Initial D(a) ~ a, dD/dln a ~ 1 at early times\n",
    "sol = solve_ivp(growth_equation, ln_a_span, y0, dense_output=True)\n",
    "\n",
    "# Extract results\n",
    "a_vals = np.exp(np.linspace(np.log(a_init), np.log(a_final), 200))\n",
    "D_vals = sol.sol(np.log(a_vals))[0]\n",
    "D_vals /= D_vals[-1]  # Normalize to D(a=1) = 1\n",
    "z_vals = 1/a_vals - 1\n",
    "\n",
    "# Compute f = dlnD/dlna and fσ₈(z)\n",
    "dlnD_dlna = np.gradient(np.log(D_vals), np.log(a_vals))\n",
    "sigma8_0 = 0.8\n",
    "fsigma8_vals = dlnD_dlna * sigma8_0 * D_vals\n",
    "\n",
    "# Plot\n",
    "plt.figure(figsize=(8,5))\n",
    "plt.plot(z_vals, fsigma8_vals, label='Waveframe V4.0 (example)')\n",
    "plt.gca().invert_xaxis()\n",
    "plt.xlabel('Redshift z')\n",
    "plt.ylabel('fσ₈(z)')\n",
    "plt.title('Structure Growth: Waveframe vs Observations')\n",
    "plt.legend()\n",
    "plt.grid(True)\n",
    "plt.show()"
   ]
  },
  {
   "cell_type": "markdown",
   "id": "e6707072",
   "metadata": {},
   "source": [
    "> **Patch:** Added figure-output utilities. After plotting fσ₈(z) or growth curves, call `savefig('growth_fs8.png')` to persist outputs in `Figures/auto/`."
   ]
  },
  {
   "cell_type": "code",
   "execution_count": null,
   "id": "d6dff8fd",
   "metadata": {},
   "outputs": [],
   "source": [
    "# ---- Figure output setup (auto-creates Figures directories) ----\n",
    "try:\n",
    "    plt  # ensure matplotlib is available as plt\n",
    "except NameError:\n",
    "    import matplotlib.pyplot as plt\n",
    "\n",
    "from pathlib import Path\n",
    "\n",
    "REPO_ROOT = Path(\".\").resolve()\n",
    "FIG_DIR = REPO_ROOT / \"Figures\"\n",
    "AUTO_DIR = FIG_DIR / \"auto\"\n",
    "AUTO_DIR.mkdir(parents=True, exist_ok=True)\n",
    "\n",
    "def savefig(name: str, fig=None, subdir: str = \"auto\", dpi=300):\n",
    "    \"\"\"Save current (or provided) figure into Figures/<subdir>/ with sane defaults.\"\"\"\n",
    "    target_dir = FIG_DIR / subdir if subdir else FIG_DIR\n",
    "    target_dir.mkdir(parents=True, exist_ok=True)\n",
    "    fig = fig or plt.gcf()\n",
    "    out = target_dir / name\n",
    "    fig.savefig(out, dpi=dpi, bbox_inches=\"tight\")\n",
    "    print(f\"[saved] {out}\")\n",
    "    return out\n"
   ]
  },
  {
   "cell_type": "markdown",
   "id": "86f2e560",
   "metadata": {},
   "source": [
    "### Save Outputs"
   ]
  },
  {
   "cell_type": "code",
   "execution_count": null,
   "id": "614fc211",
   "metadata": {},
   "outputs": [],
   "source": [
    "# ---- Auto-save any open figures ----\n",
    "try:\n",
    "    for i, num in enumerate(plt.get_fignums(), start=1):\n",
    "        savefig(f\"structure_growth_{i:02d}.png\", fig=plt.figure(num))\n",
    "    if not plt.get_fignums():\n",
    "        print(\"No open figures to save.\")\n",
    "except Exception as e:\n",
    "    print(\"Autosave skipped:\", e)\n"
   ]
  }
 ],
 "metadata": {
  "kernelspec": {
   "display_name": "Python 3",
   "language": "python",
   "name": "python3"
  },
  "language_info": {
   "name": "python",
   "version": "3.x"
  }
 },
 "nbformat": 4,
 "nbformat_minor": 5
}
