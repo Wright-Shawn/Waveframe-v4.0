{
 "cells": [
  {
   "cell_type": "markdown",
   "id": "e7c51fef",
   "metadata": {},
   "source": [
    "# Hubble Distance Modulus — Waveframe V4.0\n",
    "\n",
    "This notebook computes the **luminosity distance** $D_L(z)$ and the **distance modulus** $\\mu(z)$ for the Waveframe V4.0 H(z) model, and compares the results to ΛCDM predictions. The goal is to evaluate whether the model matches supernova data and remains consistent with observational constraints."
   ]
  },
  {
   "cell_type": "code",
   "execution_count": null,
   "id": "4190e6cf",
   "metadata": {},
   "outputs": [],
   "source": [
    "import numpy as np\n",
    "import matplotlib.pyplot as plt\n",
    "from scipy.integrate import quad\n",
    "\n",
    "# Constants\n",
    "c = 299792.458  # speed of light in km/s\n",
    "H0_LCDM = 70.0  # km/s/Mpc\n",
    "\n",
    "# Example ΛCDM parameters\n",
    "Omega_m = 0.3\n",
    "Omega_L = 0.7"
   ]
  },
  {
   "cell_type": "code",
   "execution_count": null,
   "id": "ff287a3e",
   "metadata": {},
   "outputs": [],
   "source": [
    "def H_LCDM(z, H0=H0_LCDM, Om=Omega_m, OL=Omega_L):\n",
    "    return H0 * np.sqrt(Om * (1+z)**3 + OL)\n",
    "\n",
    "# Example Waveframe α(t) constant model (replace with full α(t) form as needed)\n",
    "alpha_const = 0.5\n",
    "\n",
    "def H_waveframe(z, H0=H0_LCDM, alpha=alpha_const):\n",
    "    # Simple phenomenological deviation from LCDM\n",
    "    return H_LCDM(z) * (1 + alpha * z / (1+z))"
   ]
  },
  {
   "cell_type": "code",
   "execution_count": null,
   "id": "3ddbfee6",
   "metadata": {},
   "outputs": [],
   "source": [
    "def luminosity_distance(z, H_func):\n",
    "    integral, _ = quad(lambda zp: 1.0 / H_func(zp), 0, z)\n",
    "    return (c * integral)\n",
    "\n",
    "def distance_modulus(z, H_func):\n",
    "    DL = luminosity_distance(z, H_func)\n",
    "    return 5 * np.log10(DL * 1e6 / 10)  # Mpc to pc, then to mag"
   ]
  },
  {
   "cell_type": "code",
   "execution_count": null,
   "id": "4901cde7",
   "metadata": {},
   "outputs": [],
   "source": [
    "z_vals = np.linspace(0, 2, 200)\n",
    "mu_LCDM = [distance_modulus(z, H_LCDM) for z in z_vals]\n",
    "mu_WF = [distance_modulus(z, H_waveframe) for z in z_vals]\n",
    "\n",
    "plt.figure(figsize=(8,5))\n",
    "plt.plot(z_vals, mu_LCDM, label='ΛCDM', lw=2)\n",
    "plt.plot(z_vals, mu_WF, label='Waveframe V4.0', lw=2, ls='--')\n",
    "plt.xlabel('Redshift z')\n",
    "plt.ylabel('Distance Modulus μ(z)')\n",
    "plt.legend()\n",
    "plt.title('Distance Modulus Comparison')\n",
    "plt.grid(True)\n",
    "plt.show()"
   ]
  }
 ],
 "metadata": {},
 "nbformat": 4,
 "nbformat_minor": 5
}
