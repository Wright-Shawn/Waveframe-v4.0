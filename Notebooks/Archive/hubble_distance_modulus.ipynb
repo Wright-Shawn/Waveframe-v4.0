{
 "cells": [
  {
   "cell_type": "markdown",
   "id": "e7c51fef",
   "metadata": {},
   "source": [
    "# Hubble Distance Modulus — Waveframe V4.0\n",
    "\n",
    "This notebook computes the **luminosity distance** $D_L(z)$ and the **distance modulus** $\\mu(z)$ for the Waveframe V4.0 H(z) model, and compares the results to ΛCDM predictions. The goal is to evaluate whether the model matches supernova data and remains consistent with observational constraints."
   ]
  },
  {
   "cell_type": "code",
   "execution_count": null,
   "id": "4190e6cf",
   "metadata": {},
   "outputs": [],
   "source": [
    "import numpy as np\n",
    "import matplotlib.pyplot as plt\n",
    "from scipy.integrate import quad\n",
    "\n",
    "# Constants\n",
    "c = 299792.458  # speed of light in km/s\n",
    "H0_LCDM = 70.0  # km/s/Mpc\n",
    "\n",
    "# Example ΛCDM parameters\n",
    "Omega_m = 0.3\n",
    "Omega_L = 0.7"
   ]
  },
  {
   "cell_type": "markdown",
   "id": "d1faf1e6",
   "metadata": {},
   "source": [
    "> **Automated patch:** Added figure-output utilities. Use `savefig('distance_modulus.png')` after plotting to save into `Figures/auto/`."
   ]
  },
  {
   "cell_type": "code",
   "execution_count": null,
   "id": "91c7d1b0",
   "metadata": {},
   "outputs": [],
   "source": [
    "# ---- Figure output setup (auto-creates Figures directories) ----\n",
    "try:\n",
    "    plt  # ensure matplotlib is available as plt\n",
    "except NameError:\n",
    "    import matplotlib.pyplot as plt\n",
    "\n",
    "from pathlib import Path\n",
    "from datetime import datetime\n",
    "\n",
    "REPO_ROOT = Path(\".\").resolve()\n",
    "FIG_DIR = REPO_ROOT / \"Figures\"\n",
    "AUTO_DIR = FIG_DIR / \"auto\"\n",
    "AUTO_DIR.mkdir(parents=True, exist_ok=True)\n",
    "\n",
    "def savefig(name: str, fig=None, subdir: str = \"auto\", dpi=300):\n",
    "    \"\"\"Save current (or provided) figure into Figures/<subdir>/ with sane defaults.\"\"\"\n",
    "    target_dir = FIG_DIR / subdir if subdir else FIG_DIR\n",
    "    target_dir.mkdir(parents=True, exist_ok=True)\n",
    "    fig = fig or plt.gcf()\n",
    "    out = target_dir / name\n",
    "    fig.savefig(out, dpi=dpi, bbox_inches=\"tight\")\n",
    "    print(f\"[saved] {out}\")\n",
    "    return out\n"
   ]
  },
  {
   "cell_type": "markdown",
   "id": "60b572b3",
   "metadata": {},
   "source": [
    "**Tip:** After plotting μ(z) or D_L(z), call `savefig('distance_modulus.png')` or `savefig('luminosity_distance.png')` to persist the figure."
   ]
  },
  {
   "cell_type": "code",
   "execution_count": null,
   "id": "ff287a3e",
   "metadata": {},
   "outputs": [],
   "source": [
    "def H_LCDM(z, H0=H0_LCDM, Om=Omega_m, OL=Omega_L):\n",
    "    return H0 * np.sqrt(Om * (1+z)**3 + OL)\n",
    "\n",
    "# Example Waveframe α(t) constant model (replace with full α(t) form as needed)\n",
    "alpha_const = 0.5\n",
    "\n",
    "def H_waveframe(z, H0=H0_LCDM, alpha=alpha_const):\n",
    "    # Simple phenomenological deviation from LCDM\n",
    "    return H_LCDM(z) * (1 + alpha * z / (1+z))"
   ]
  },
  {
   "cell_type": "code",
   "execution_count": null,
   "id": "3ddbfee6",
   "metadata": {},
   "outputs": [],
   "source": [
    "def luminosity_distance(z, H_func):\n",
    "    integral, _ = quad(lambda zp: 1.0 / H_func(zp), 0, z)\n",
    "    return (c * integral)\n",
    "\n",
    "def distance_modulus(z, H_func):\n",
    "    DL = luminosity_distance(z, H_func)\n",
    "    return 5 * np.log10(DL * 1e6 / 10)  # Mpc to pc, then to mag"
   ]
  },
  {
   "cell_type": "code",
   "execution_count": null,
   "id": "4901cde7",
   "metadata": {},
   "outputs": [],
   "source": [
    "z_vals = np.linspace(0, 2, 200)\n",
    "mu_LCDM = [distance_modulus(z, H_LCDM) for z in z_vals]\n",
    "mu_WF = [distance_modulus(z, H_waveframe) for z in z_vals]\n",
    "\n",
    "plt.figure(figsize=(8,5))\n",
    "plt.plot(z_vals, mu_LCDM, label='ΛCDM', lw=2)\n",
    "plt.plot(z_vals, mu_WF, label='Waveframe V4.0', lw=2, ls='--')\n",
    "plt.xlabel('Redshift z')\n",
    "plt.ylabel('Distance Modulus μ(z)')\n",
    "plt.legend()\n",
    "plt.title('Distance Modulus Comparison')\n",
    "plt.grid(True)\n",
    "plt.show()"
   ]
  }
 ],
 "metadata": {},
 "nbformat": 4,
 "nbformat_minor": 5
}
