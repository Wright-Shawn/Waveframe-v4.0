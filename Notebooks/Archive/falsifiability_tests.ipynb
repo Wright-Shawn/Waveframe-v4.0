{
 "cells": [
  {
   "cell_type": "markdown",
   "id": "bb9c6b76",
   "metadata": {},
   "source": [
    "# Falsifiability Tests — Waveframe V4.0\n",
    "This notebook implements the falsifiability criteria defined in `docs/Falsifiability.md`.\n",
    "It runs tests for:\n",
    "1. Early-Universe Agreement\n",
    "2. Distance–Redshift Relation\n",
    "3. Growth of Cosmic Structure\n",
    "4. Parameter Economy\n",
    "5. Unique Predictions\n",
    "6. Internal Consistency"
   ]
  },
  {
   "cell_type": "code",
   "execution_count": null,
   "id": "0f48c9cd",
   "metadata": {},
   "outputs": [],
   "source": [
    "# Setup\n",
    "import numpy as np\n",
    "import matplotlib.pyplot as plt\n",
    "from scipy.integrate import quad\n",
    "# from your_model_module import H_waveframe, alpha_t, growth_factor, distance_modulus\n",
    "# Placeholder functions for now\n",
    "def H_waveframe(z):\n",
    "    return 70 * np.sqrt(0.3*(1+z)**3 + 0.7)  # example ΛCDM form\n",
    "def H_lcdm(z):\n",
    "    return 70 * np.sqrt(0.3*(1+z)**3 + 0.7)"
   ]
  },
  {
   "cell_type": "markdown",
   "id": "07460c55",
   "metadata": {},
   "source": [
    "> **Patch:** Added figure-output utilities (`savefig(...)`) so plots save to `Figures/auto/`. Call `savefig('name.png')` after each visualization."
   ]
  },
  {
   "cell_type": "code",
   "execution_count": null,
   "id": "ce9f90c5",
   "metadata": {},
   "outputs": [],
   "source": [
    "# ---- Figure output setup (auto-creates Figures directories) ----\n",
    "try:\n",
    "    plt  # ensure matplotlib is available as plt\n",
    "except NameError:\n",
    "    import matplotlib.pyplot as plt\n",
    "\n",
    "from pathlib import Path\n",
    "\n",
    "REPO_ROOT = Path(\".\").resolve()\n",
    "FIG_DIR = REPO_ROOT / \"Figures\"\n",
    "AUTO_DIR = FIG_DIR / \"auto\"\n",
    "AUTO_DIR.mkdir(parents=True, exist_ok=True)\n",
    "\n",
    "def savefig(name: str, fig=None, subdir: str = \"auto\", dpi=300):\n",
    "    \"\"\"Save current (or provided) figure into Figures/<subdir>/ with sane defaults.\"\"\"\n",
    "    target_dir = FIG_DIR / subdir if subdir else FIG_DIR\n",
    "    target_dir.mkdir(parents=True, exist_ok=True)\n",
    "    fig = fig or plt.gcf()\n",
    "    out = target_dir / name\n",
    "    fig.savefig(out, dpi=dpi, bbox_inches=\"tight\")\n",
    "    print(f\"[saved] {out}\")\n",
    "    return out\n"
   ]
  },
  {
   "cell_type": "markdown",
   "id": "992ef2a0",
   "metadata": {},
   "source": [
    "## 1. Early-Universe Agreement (BBN & CMB)"
   ]
  },
  {
   "cell_type": "code",
   "execution_count": null,
   "id": "eff8510d",
   "metadata": {},
   "outputs": [],
   "source": [
    "# Test: Compare H(z) from Waveframe to ΛCDM for z ~ 1100 (CMB) and z ~ 1e9 (BBN)\n",
    "z_values = [1100, 1e9]\n",
    "for z in z_values:\n",
    "    H_w = H_waveframe(z)\n",
    "    H_l = H_lcdm(z)\n",
    "    diff = abs(H_w - H_l) / H_l\n",
    "    print(f'z={z}: relative difference = {diff*100:.4f}%')\n",
    "    if diff > 0.05:\n",
    "        print('❌ FAIL: Exceeds 5% difference')\n",
    "    else:\n",
    "        print('✅ PASS')"
   ]
  },
  {
   "cell_type": "markdown",
   "id": "f9385dcc",
   "metadata": {},
   "source": [
    "## 2. Distance–Redshift Relation (Supernovae & BAO)"
   ]
  },
  {
   "cell_type": "code",
   "execution_count": null,
   "id": "05df06d1",
   "metadata": {},
   "outputs": [],
   "source": [
    "# Placeholder: Would load Pantheon+ and BAO data, then fit.\n",
    "# Compute χ²/d.o.f and check if ≤ 1.2\n",
    "chi2_dof = 1.1  # mock value\n",
    "print(f'χ²/d.o.f = {chi2_dof}')\n",
    "if chi2_dof <= 1.2:\n",
    "    print('✅ PASS')\n",
    "else:\n",
    "    print('❌ FAIL')"
   ]
  },
  {
   "cell_type": "markdown",
   "id": "79664ce0",
   "metadata": {},
   "source": [
    "## 3. Growth of Cosmic Structure (fσ₈)"
   ]
  },
  {
   "cell_type": "code",
   "execution_count": null,
   "id": "f1c9bbc3",
   "metadata": {},
   "outputs": [],
   "source": [
    "# Placeholder for growth factor integration and comparison with RSD data\n",
    "within_2sigma = True\n",
    "if within_2sigma:\n",
    "    print('✅ PASS')\n",
    "else:\n",
    "    print('❌ FAIL')"
   ]
  },
  {
   "cell_type": "markdown",
   "id": "3f264c55",
   "metadata": {},
   "source": [
    "## 4. Parameter Economy"
   ]
  },
  {
   "cell_type": "code",
   "execution_count": null,
   "id": "9c910ab4",
   "metadata": {},
   "outputs": [],
   "source": [
    "# Placeholder for BIC calculation\n",
    "bic_diff = -2.0\n",
    "print(f'ΔBIC = {bic_diff}')\n",
    "if bic_diff >= 6:\n",
    "    print('❌ FAIL')\n",
    "else:\n",
    "    print('✅ PASS')"
   ]
  },
  {
   "cell_type": "markdown",
   "id": "74397717",
   "metadata": {},
   "source": [
    "## 5. Unique Predictions"
   ]
  },
  {
   "cell_type": "code",
   "execution_count": null,
   "id": "a62e1830",
   "metadata": {},
   "outputs": [],
   "source": [
    "# Check if α(t) deviates from ΛCDM in late-time but matches early-time\n",
    "unique_signature_detected = True\n",
    "if unique_signature_detected:\n",
    "    print('✅ PASS')\n",
    "else:\n",
    "    print('❌ FAIL: No independent predictions')"
   ]
  },
  {
   "cell_type": "markdown",
   "id": "5808b219",
   "metadata": {},
   "source": [
    "## 6. Internal Consistency"
   ]
  },
  {
   "cell_type": "code",
   "execution_count": null,
   "id": "ceea1751",
   "metadata": {},
   "outputs": [],
   "source": [
    "# Placeholder: Check dS/dt >= 0\n",
    "entropy_non_decreasing = True\n",
    "if entropy_non_decreasing:\n",
    "    print('✅ PASS')\n",
    "else:\n",
    "    print('❌ FAIL')"
   ]
  },
  {
   "cell_type": "markdown",
   "id": "3bb7607e",
   "metadata": {},
   "source": [
    "### Save Outputs"
   ]
  },
  {
   "cell_type": "code",
   "execution_count": null,
   "id": "d017dbe2",
   "metadata": {},
   "outputs": [],
   "source": [
    "# ---- Auto-save any open figures ----\n",
    "try:\n",
    "    for i, num in enumerate(plt.get_fignums(), start=1):\n",
    "        savefig(f\"falsifiability_{i:02d}.png\", fig=plt.figure(num))\n",
    "    if not plt.get_fignums():\n",
    "        print(\"No open figures to save.\")\n",
    "except Exception as e:\n",
    "    print(\"Autosave skipped:\", e)\n"
   ]
  }
 ],
 "metadata": {},
 "nbformat": 4,
 "nbformat_minor": 5
}
