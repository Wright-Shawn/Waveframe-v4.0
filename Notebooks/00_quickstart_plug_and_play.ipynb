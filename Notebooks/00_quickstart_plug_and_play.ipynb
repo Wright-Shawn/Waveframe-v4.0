{
 "cells": [
  {
   "cell_type": "markdown",
   "id": "05739207",
   "metadata": {},
   "source": [
    "# Waveframe v4.0 — Plug‑and‑Play Quickstart (Colab & local)\n",
    "\n",
    "**Usage:** *Runtime → Run all*.  \n",
    "This notebook installs minimal deps, ensures the repo is available, auto-discovers CSVs in `Analysis/` & `Demos/Data/`, and produces plots.  \n",
    "Figures are saved automatically to `Figures/auto/`.\n"
   ]
  },
  {
   "cell_type": "code",
   "execution_count": null,
   "id": "1300901d",
   "metadata": {
    "id": "install_and_import"
   },
   "outputs": [],
   "source": [
    "# 1) Install + import deps (safe to run multiple times)\n",
    "!pip -q install numpy pandas matplotlib\n",
    "\n",
    "import sys, platform, os, glob\n",
    "import pandas as pd\n",
    "import numpy as np\n",
    "import matplotlib.pyplot as plt\n",
    "\n",
    "print('Python:', sys.version)\n",
    "print('Platform:', platform.platform())\n",
    "print('pandas:', pd.__version__)\n",
    "print('numpy:', np.__version__)\n",
    "print('matplotlib:', plt.matplotlib.__version__)"
   ]
  },
  {
   "cell_type": "code",
   "execution_count": null,
   "id": "0bc0a6a1",
   "metadata": {
    "id": "figure_setup"
   },
   "outputs": [],
   "source": [
    "# 2) Figure output setup (auto-creates Figures/ and Figures/auto/)\n",
    "try:\n",
    "    plt  # ensure matplotlib is available as plt\n",
    "except NameError:\n",
    "    import matplotlib.pyplot as plt\n",
    "\n",
    "from pathlib import Path\n",
    "from datetime import datetime\n",
    "\n",
    "REPO_ROOT = Path(\".\").resolve()\n",
    "FIG_DIR = REPO_ROOT / \"Figures\"\n",
    "AUTO_DIR = FIG_DIR / \"auto\"\n",
    "AUTO_DIR.mkdir(parents=True, exist_ok=True)\n",
    "\n",
    "def savefig(name: str, fig=None, subdir: str = \"auto\", dpi=300):\n",
    "    \"\"\"Save current (or provided) figure into Figures/<subdir>/ with sane defaults.\"\"\"\n",
    "    target_dir = FIG_DIR / subdir if subdir else FIG_DIR\n",
    "    target_dir.mkdir(parents=True, exist_ok=True)\n",
    "    fig = fig or plt.gcf()\n",
    "    out = target_dir / name\n",
    "    fig.savefig(out, dpi=dpi, bbox_inches=\"tight\")\n",
    "    print(f\"[saved] {out}\")\n",
    "    return out"
   ]
  },
  {
   "cell_type": "code",
   "execution_count": null,
   "id": "9c96fd5e",
   "metadata": {
    "id": "clone_repo"
   },
   "outputs": [],
   "source": [
    "# 3) Ensure repo present and set working directory\n",
    "REPO_URL = 'https://github.com/Wright-Shawn/Waveframe-v4.0.git'\n",
    "REPO_DIR = '/content/Waveframe-v4.0'\n",
    "\n",
    "if os.path.isdir('/content') and not os.path.isdir(REPO_DIR):\n",
    "    print('Cloning repo into Colab workspace...')\n",
    "    !git clone $REPO_URL\n",
    "\n",
    "# If running in Colab, switch into the repo\n",
    "if os.path.isdir(REPO_DIR):\n",
    "    os.chdir(REPO_DIR)\n",
    "\n",
    "print('CWD:', os.getcwd())"
   ]
  },
  {
   "cell_type": "code",
   "execution_count": null,
   "id": "27164343",
   "metadata": {
    "id": "discover_csvs"
   },
   "outputs": [],
   "source": [
    "# 4) Discover CSVs and load a dataframe\n",
    "SEARCH_DIRS = ['Analysis', 'analysis', 'Demos/Data']\n",
    "csvs = []\n",
    "for rel in SEARCH_DIRS:\n",
    "    root = os.path.abspath(rel)\n",
    "    found = sorted(glob.glob(os.path.join(root, '**', '*.csv'), recursive=True))\n",
    "    if found:\n",
    "        print(f'Found {len(found)} CSV(s) under {rel}')\n",
    "        csvs.extend(found)\n",
    "\n",
    "print('\\nAll discovered CSVs:')\n",
    "for i, p in enumerate(csvs):\n",
    "    print(f'  [{i}] {p}')\n",
    "\n",
    "if not csvs:\n",
    "    print('\\nNo CSVs found. Use the upload dialog to add one.')\n",
    "    try:\n",
    "        from google.colab import files\n",
    "        uploaded = files.upload()  # opens a file picker in Colab\n",
    "        os.makedirs('Uploaded', exist_ok=True)\n",
    "        for name, data in uploaded.items():\n",
    "            with open(os.path.join('Uploaded', name), 'wb') as f:\n",
    "                f.write(data)\n",
    "            csvs.append(os.path.abspath(os.path.join('Uploaded', name)))\n",
    "        print('Uploaded CSVs registered:')\n",
    "        for i, p in enumerate(csvs):\n",
    "            print(f'  [{i}] {p}')\n",
    "    except Exception as e:\n",
    "        raise FileNotFoundError('No CSVs found and upload dialog not available in this environment.')\n",
    "\n",
    "CSV_INDEX = 0\n",
    "csv_path = csvs[CSV_INDEX]\n",
    "print('\\nUsing CSV ->', csv_path)\n",
    "df = pd.read_csv(csv_path)\n",
    "print('Columns:', list(df.columns))\n",
    "df.head()"
   ]
  },
  {
   "cell_type": "code",
   "execution_count": null,
   "id": "4d2e3244",
   "metadata": {
    "id": "plots"
   },
   "outputs": [],
   "source": [
    "# 5) Detect columns and generate plots\n",
    "def pick(candidates, columns):\n",
    "    for name in candidates:\n",
    "        if name in columns:\n",
    "            return name\n",
    "    return None\n",
    "\n",
    "Z = pick(['z','redshift','Z'], df.columns)\n",
    "E = pick(['E','E_z','E(z)'], df.columns)\n",
    "DA = pick(['D_A','D_A(z)','DA','DA_z','angular_diameter_distance'], df.columns)\n",
    "H = pick(['H','H_z','H(z)','Hz'], df.columns)\n",
    "G = pick(['growth','f_sigma8','fσ8','f_s8','fs8'], df.columns)\n",
    "\n",
    "print('Detected ->', {'z':Z, 'E':E, 'D_A':DA, 'H':H, 'growth':G})\n",
    "\n",
    "def maybe_plot(xname, yname, title, fname):\n",
    "    if xname and yname:\n",
    "        plt.figure()\n",
    "        plt.plot(df[xname], df[yname])\n",
    "        plt.xlabel(xname); plt.ylabel(yname); plt.title(title); plt.grid(True)\n",
    "        savefig(fname)  # <--- use the helper we inserted above\n",
    "        plt.show()\n",
    "        return True\n",
    "    else:\n",
    "        print(f'Skipping {title}: missing columns')\n",
    "        return False\n",
    "\n",
    "maybe_plot(Z, E,   'E(z)',               'ez.png')\n",
    "maybe_plot(Z, DA,  'D_A(z)',             'da.png')\n",
    "maybe_plot(Z, H,   'H(z)',               'hz.png')\n",
    "maybe_plot(Z, G,   'Growth (proxy)',     'growth.png')"
   ]
  }
 ],
 "metadata": {},
 "nbformat": 4,
 "nbformat_minor": 5
}
