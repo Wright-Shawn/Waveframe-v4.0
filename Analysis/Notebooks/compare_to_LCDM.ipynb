{
  "cells": [
    {
      "cell_type": "markdown",
      "metadata": {},
      "source": [
        "# Compare Waveframe V4.0 to \u039bCDM\n",
        "\n",
        "This notebook wires together the Equations modules to:\n",
        "\n",
        "1. Define an \u03b1(z) profile (constant / logistic / power-law in a).\n",
        "2. Solve for H(z) using `hubble_entropy_growth.py`.\n",
        "3. Build a reference \u039bCDM model from `limit_case_LCDM.py`.\n",
        "4. Plot H(z) and residuals H/H_LCDM \u2212 1.\n",
        "\n",
        "**Note:** The notebook assumes the `Equations` folder is two levels up from this notebook.\n"
      ]
    },
    {
      "cell_type": "code",
      "execution_count": null,
      "metadata": {},
      "outputs": [],
      "source": [
        "# Setup: imports and sys.path so we can import from Equations\n",
        "import sys, os\n",
        "from pathlib import Path\n",
        "import numpy as np\n",
        "import matplotlib.pyplot as plt\n",
        "\n",
        "# Add the Equations directory to the path (adjust if your layout differs)\n",
        "root = Path.cwd().resolve()\n",
        "eq_dir_candidates = [\n",
        "    root.parents[1] / 'Equations',   # expected when this notebook lives in analysis/notebooks\n",
        "    root.parents[0] / 'Equations',   # fallback\n",
        "]\n",
        "for cand in eq_dir_candidates:\n",
        "    if cand.exists():\n",
        "        sys.path.insert(0, str(cand))\n",
        "        break\n",
        "\n",
        "from hubble_entropy_growth import (\n",
        "    make_alpha, solve_H_of_z, infer_alpha_match_from_H\n",
        ")\n",
        "from limit_case_LCDM import H_LCDM_flat\n",
        "\n",
        "print('Imports ok. Using Equations at:', cand)"
      ]
    },
    {
      "cell_type": "code",
      "execution_count": null,
      "metadata": {},
      "outputs": [],
      "source": [
        "# Define redshift grid and baseline cosmology\n",
        "z = np.linspace(0.0, 2.0, 400)\n",
        "H0 = 70.0  # km/s/Mpc (units arbitrary as long as consistent)\n",
        "Omega_m0 = 0.3\n",
        "Omega_r0 = 0.0\n",
        "Omega_L0 = 1.0 - Omega_m0 - Omega_r0\n",
        "\n",
        "# Reference \u039bCDM H(z)\n",
        "H_LCDM = H_LCDM_flat(H0, Omega_m0, Omega_r0, Omega_L0)\n",
        "H_ref = H_LCDM(z)\n",
        "print('Reference H(z) computed. H(0)=', H_ref[0])"
      ]
    },
    {
      "cell_type": "code",
      "execution_count": null,
      "metadata": {},
      "outputs": [],
      "source": [
        "# Choose an \u03b1(z) profile for Waveframe\n",
        "# Options: constant, powerlaw_a, logistic\n",
        "alpha_spec = { 'type': 'logistic', 'zc': 0.7, 'width': 0.25, 'low': 0.0, 'high': 0.02 }\n",
        "alpha = make_alpha(alpha_spec)\n",
        "\n",
        "# Solve Waveframe H(z)\n",
        "H_wf = solve_H_of_z(z, H0, alpha)\n",
        "print('Waveframe H(0)=', H_wf[0])"
      ]
    },
    {
      "cell_type": "code",
      "execution_count": null,
      "metadata": {},
      "outputs": [],
      "source": [
        "# Plot H(z) comparison\n",
        "plt.figure()\n",
        "plt.plot(z, H_ref, label='\u039bCDM H(z)')\n",
        "plt.plot(z, H_wf, label='Waveframe H(z)')\n",
        "plt.xlabel('z')\n",
        "plt.ylabel('H(z)')\n",
        "plt.legend()\n",
        "plt.title('H(z): Waveframe vs \u039bCDM')\n",
        "plt.show()\n",
        "\n",
        "# Plot residuals: H/H_LCDM \u2212 1\n",
        "resid = H_wf / H_ref - 1.0\n",
        "plt.figure()\n",
        "plt.plot(z, resid, label='Residual')\n",
        "plt.axhline(0, linestyle='--')\n",
        "plt.xlabel('z')\n",
        "plt.ylabel('H/H_LCDM \u2212 1')\n",
        "plt.title('Residuals')\n",
        "plt.show()"
      ]
    },
    {
      "cell_type": "code",
      "execution_count": null,
      "metadata": {},
      "outputs": [],
      "source": [
        "# Optional: exact matching demo \u2014 infer \u03b1_match from H_LCDM and re-solve to verify\n",
        "alpha_match = infer_alpha_match_from_H(H_LCDM, z)\n",
        "H_match = solve_H_of_z(z, H0, (lambda zz: np.interp(zz, z, alpha_match)))\n",
        "\n",
        "plt.figure()\n",
        "plt.plot(z, H_ref, label='\u039bCDM H(z)')\n",
        "plt.plot(z, H_match, label='Reconstructed via \u03b1_match', linestyle=':')\n",
        "plt.xlabel('z')\n",
        "plt.ylabel('H(z)')\n",
        "plt.legend()\n",
        "plt.title('Verification: \u03b1_match reproduces \u039bCDM')\n",
        "plt.show()"
      ]
    }
  ],
  "metadata": {
    "kernelspec": {
      "display_name": "Python 3",
      "language": "python",
      "name": "python3"
    },
    "language_info": {
      "name": "python",
      "version": "3.x"
    }
  },
  "nbformat": 4,
  "nbformat_minor": 5
}